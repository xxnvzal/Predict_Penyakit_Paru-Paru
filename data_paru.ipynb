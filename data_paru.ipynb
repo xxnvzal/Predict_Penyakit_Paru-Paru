{
 "cells": [
  {
   "cell_type": "markdown",
   "metadata": {},
   "source": [
    "1.Library yang digunakan"
   ]
  },
  {
   "cell_type": "code",
   "execution_count": 27,
   "metadata": {},
   "outputs": [],
   "source": [
    "import pandas as pd\n",
    "import numpy as np\n",
    "from sklearn.preprocessing import StandardScaler\n",
    "from sklearn.model_selection import train_test_split\n",
    "from sklearn import svm\n",
    "from sklearn.metrics import accuracy_score\n",
    "from sklearn.preprocessing import OneHotEncoder"
   ]
  },
  {
   "cell_type": "markdown",
   "metadata": {},
   "source": [
    "2.Data Assesment & Preprocessing"
   ]
  },
  {
   "cell_type": "code",
   "execution_count": 9,
   "metadata": {},
   "outputs": [],
   "source": [
    "paru_dataset = pd.read_csv(\"data__paru.csv\")"
   ]
  },
  {
   "cell_type": "code",
   "execution_count": 10,
   "metadata": {},
   "outputs": [
    {
     "data": {
      "text/html": [
       "<div>\n",
       "<style scoped>\n",
       "    .dataframe tbody tr th:only-of-type {\n",
       "        vertical-align: middle;\n",
       "    }\n",
       "\n",
       "    .dataframe tbody tr th {\n",
       "        vertical-align: top;\n",
       "    }\n",
       "\n",
       "    .dataframe thead th {\n",
       "        text-align: right;\n",
       "    }\n",
       "</style>\n",
       "<table border=\"1\" class=\"dataframe\">\n",
       "  <thead>\n",
       "    <tr style=\"text-align: right;\">\n",
       "      <th></th>\n",
       "      <th>No</th>\n",
       "      <th>Usia</th>\n",
       "      <th>Jenis_Kelamin</th>\n",
       "      <th>Merokok</th>\n",
       "      <th>Bekerja</th>\n",
       "      <th>Rumah_Tangga</th>\n",
       "      <th>Aktivitas_Begadang</th>\n",
       "      <th>Aktivitas_Olahraga</th>\n",
       "      <th>Asuransi</th>\n",
       "      <th>Penyakit_Bawaan</th>\n",
       "      <th>Hasil</th>\n",
       "    </tr>\n",
       "  </thead>\n",
       "  <tbody>\n",
       "    <tr>\n",
       "      <th>0</th>\n",
       "      <td>1</td>\n",
       "      <td>Tua</td>\n",
       "      <td>Pria</td>\n",
       "      <td>Pasif</td>\n",
       "      <td>Tidak</td>\n",
       "      <td>Ya</td>\n",
       "      <td>Ya</td>\n",
       "      <td>Sering</td>\n",
       "      <td>Ada</td>\n",
       "      <td>Tidak</td>\n",
       "      <td>Ya</td>\n",
       "    </tr>\n",
       "    <tr>\n",
       "      <th>1</th>\n",
       "      <td>2</td>\n",
       "      <td>Tua</td>\n",
       "      <td>Pria</td>\n",
       "      <td>Aktif</td>\n",
       "      <td>Tidak</td>\n",
       "      <td>Ya</td>\n",
       "      <td>Ya</td>\n",
       "      <td>Jarang</td>\n",
       "      <td>Ada</td>\n",
       "      <td>Ada</td>\n",
       "      <td>Tidak</td>\n",
       "    </tr>\n",
       "    <tr>\n",
       "      <th>2</th>\n",
       "      <td>3</td>\n",
       "      <td>Muda</td>\n",
       "      <td>Pria</td>\n",
       "      <td>Aktif</td>\n",
       "      <td>Tidak</td>\n",
       "      <td>Ya</td>\n",
       "      <td>Ya</td>\n",
       "      <td>Jarang</td>\n",
       "      <td>Ada</td>\n",
       "      <td>Tidak</td>\n",
       "      <td>Tidak</td>\n",
       "    </tr>\n",
       "    <tr>\n",
       "      <th>3</th>\n",
       "      <td>4</td>\n",
       "      <td>Tua</td>\n",
       "      <td>Pria</td>\n",
       "      <td>Aktif</td>\n",
       "      <td>Ya</td>\n",
       "      <td>Tidak</td>\n",
       "      <td>Tidak</td>\n",
       "      <td>Jarang</td>\n",
       "      <td>Ada</td>\n",
       "      <td>Ada</td>\n",
       "      <td>Tidak</td>\n",
       "    </tr>\n",
       "    <tr>\n",
       "      <th>4</th>\n",
       "      <td>5</td>\n",
       "      <td>Muda</td>\n",
       "      <td>Wanita</td>\n",
       "      <td>Pasif</td>\n",
       "      <td>Ya</td>\n",
       "      <td>Tidak</td>\n",
       "      <td>Tidak</td>\n",
       "      <td>Sering</td>\n",
       "      <td>Tidak</td>\n",
       "      <td>Ada</td>\n",
       "      <td>Ya</td>\n",
       "    </tr>\n",
       "  </tbody>\n",
       "</table>\n",
       "</div>"
      ],
      "text/plain": [
       "   No  Usia Jenis_Kelamin Merokok Bekerja Rumah_Tangga Aktivitas_Begadang  \\\n",
       "0   1   Tua          Pria   Pasif   Tidak           Ya                 Ya   \n",
       "1   2   Tua          Pria   Aktif   Tidak           Ya                 Ya   \n",
       "2   3  Muda          Pria   Aktif   Tidak           Ya                 Ya   \n",
       "3   4   Tua          Pria   Aktif      Ya        Tidak              Tidak   \n",
       "4   5  Muda        Wanita   Pasif      Ya        Tidak              Tidak   \n",
       "\n",
       "  Aktivitas_Olahraga Asuransi Penyakit_Bawaan  Hasil  \n",
       "0             Sering      Ada           Tidak     Ya  \n",
       "1             Jarang      Ada             Ada  Tidak  \n",
       "2             Jarang      Ada           Tidak  Tidak  \n",
       "3             Jarang      Ada             Ada  Tidak  \n",
       "4             Sering    Tidak             Ada     Ya  "
      ]
     },
     "execution_count": 10,
     "metadata": {},
     "output_type": "execute_result"
    }
   ],
   "source": [
    "paru_dataset.head()"
   ]
  },
  {
   "cell_type": "code",
   "execution_count": 97,
   "metadata": {},
   "outputs": [
    {
     "data": {
      "text/html": [
       "<div>\n",
       "<style scoped>\n",
       "    .dataframe tbody tr th:only-of-type {\n",
       "        vertical-align: middle;\n",
       "    }\n",
       "\n",
       "    .dataframe tbody tr th {\n",
       "        vertical-align: top;\n",
       "    }\n",
       "\n",
       "    .dataframe thead th {\n",
       "        text-align: right;\n",
       "    }\n",
       "</style>\n",
       "<table border=\"1\" class=\"dataframe\">\n",
       "  <thead>\n",
       "    <tr style=\"text-align: right;\">\n",
       "      <th></th>\n",
       "      <th>Usia</th>\n",
       "      <th>Jenis_Kelamin</th>\n",
       "      <th>Merokok</th>\n",
       "      <th>Bekerja</th>\n",
       "      <th>Rumah_Tangga</th>\n",
       "      <th>Aktivitas_Begadang</th>\n",
       "      <th>Aktivitas_Olahraga</th>\n",
       "      <th>Asuransi</th>\n",
       "      <th>Penyakit_Bawaan</th>\n",
       "      <th>Hasil</th>\n",
       "    </tr>\n",
       "  </thead>\n",
       "  <tbody>\n",
       "    <tr>\n",
       "      <th>0</th>\n",
       "      <td>1</td>\n",
       "      <td>0</td>\n",
       "      <td>1</td>\n",
       "      <td>0</td>\n",
       "      <td>1</td>\n",
       "      <td>1</td>\n",
       "      <td>1</td>\n",
       "      <td>0</td>\n",
       "      <td>1</td>\n",
       "      <td>1</td>\n",
       "    </tr>\n",
       "    <tr>\n",
       "      <th>1</th>\n",
       "      <td>1</td>\n",
       "      <td>0</td>\n",
       "      <td>0</td>\n",
       "      <td>0</td>\n",
       "      <td>1</td>\n",
       "      <td>1</td>\n",
       "      <td>0</td>\n",
       "      <td>0</td>\n",
       "      <td>0</td>\n",
       "      <td>0</td>\n",
       "    </tr>\n",
       "    <tr>\n",
       "      <th>2</th>\n",
       "      <td>0</td>\n",
       "      <td>0</td>\n",
       "      <td>0</td>\n",
       "      <td>0</td>\n",
       "      <td>1</td>\n",
       "      <td>1</td>\n",
       "      <td>0</td>\n",
       "      <td>0</td>\n",
       "      <td>1</td>\n",
       "      <td>0</td>\n",
       "    </tr>\n",
       "    <tr>\n",
       "      <th>3</th>\n",
       "      <td>1</td>\n",
       "      <td>0</td>\n",
       "      <td>0</td>\n",
       "      <td>1</td>\n",
       "      <td>0</td>\n",
       "      <td>0</td>\n",
       "      <td>0</td>\n",
       "      <td>0</td>\n",
       "      <td>0</td>\n",
       "      <td>0</td>\n",
       "    </tr>\n",
       "    <tr>\n",
       "      <th>4</th>\n",
       "      <td>0</td>\n",
       "      <td>1</td>\n",
       "      <td>1</td>\n",
       "      <td>1</td>\n",
       "      <td>0</td>\n",
       "      <td>0</td>\n",
       "      <td>1</td>\n",
       "      <td>1</td>\n",
       "      <td>0</td>\n",
       "      <td>1</td>\n",
       "    </tr>\n",
       "    <tr>\n",
       "      <th>...</th>\n",
       "      <td>...</td>\n",
       "      <td>...</td>\n",
       "      <td>...</td>\n",
       "      <td>...</td>\n",
       "      <td>...</td>\n",
       "      <td>...</td>\n",
       "      <td>...</td>\n",
       "      <td>...</td>\n",
       "      <td>...</td>\n",
       "      <td>...</td>\n",
       "    </tr>\n",
       "    <tr>\n",
       "      <th>29995</th>\n",
       "      <td>0</td>\n",
       "      <td>0</td>\n",
       "      <td>0</td>\n",
       "      <td>0</td>\n",
       "      <td>1</td>\n",
       "      <td>1</td>\n",
       "      <td>0</td>\n",
       "      <td>0</td>\n",
       "      <td>1</td>\n",
       "      <td>0</td>\n",
       "    </tr>\n",
       "    <tr>\n",
       "      <th>29996</th>\n",
       "      <td>1</td>\n",
       "      <td>1</td>\n",
       "      <td>0</td>\n",
       "      <td>1</td>\n",
       "      <td>0</td>\n",
       "      <td>1</td>\n",
       "      <td>0</td>\n",
       "      <td>0</td>\n",
       "      <td>0</td>\n",
       "      <td>0</td>\n",
       "    </tr>\n",
       "    <tr>\n",
       "      <th>29997</th>\n",
       "      <td>1</td>\n",
       "      <td>1</td>\n",
       "      <td>0</td>\n",
       "      <td>1</td>\n",
       "      <td>0</td>\n",
       "      <td>1</td>\n",
       "      <td>0</td>\n",
       "      <td>0</td>\n",
       "      <td>0</td>\n",
       "      <td>0</td>\n",
       "    </tr>\n",
       "    <tr>\n",
       "      <th>29998</th>\n",
       "      <td>0</td>\n",
       "      <td>1</td>\n",
       "      <td>1</td>\n",
       "      <td>1</td>\n",
       "      <td>0</td>\n",
       "      <td>0</td>\n",
       "      <td>1</td>\n",
       "      <td>1</td>\n",
       "      <td>0</td>\n",
       "      <td>0</td>\n",
       "    </tr>\n",
       "    <tr>\n",
       "      <th>29999</th>\n",
       "      <td>1</td>\n",
       "      <td>1</td>\n",
       "      <td>1</td>\n",
       "      <td>0</td>\n",
       "      <td>1</td>\n",
       "      <td>0</td>\n",
       "      <td>1</td>\n",
       "      <td>1</td>\n",
       "      <td>1</td>\n",
       "      <td>1</td>\n",
       "    </tr>\n",
       "  </tbody>\n",
       "</table>\n",
       "<p>30000 rows × 10 columns</p>\n",
       "</div>"
      ],
      "text/plain": [
       "       Usia  Jenis_Kelamin  Merokok  Bekerja  Rumah_Tangga  \\\n",
       "0         1              0        1        0             1   \n",
       "1         1              0        0        0             1   \n",
       "2         0              0        0        0             1   \n",
       "3         1              0        0        1             0   \n",
       "4         0              1        1        1             0   \n",
       "...     ...            ...      ...      ...           ...   \n",
       "29995     0              0        0        0             1   \n",
       "29996     1              1        0        1             0   \n",
       "29997     1              1        0        1             0   \n",
       "29998     0              1        1        1             0   \n",
       "29999     1              1        1        0             1   \n",
       "\n",
       "       Aktivitas_Begadang  Aktivitas_Olahraga  Asuransi  Penyakit_Bawaan  \\\n",
       "0                       1                   1         0                1   \n",
       "1                       1                   0         0                0   \n",
       "2                       1                   0         0                1   \n",
       "3                       0                   0         0                0   \n",
       "4                       0                   1         1                0   \n",
       "...                   ...                 ...       ...              ...   \n",
       "29995                   1                   0         0                1   \n",
       "29996                   1                   0         0                0   \n",
       "29997                   1                   0         0                0   \n",
       "29998                   0                   1         1                0   \n",
       "29999                   0                   1         1                1   \n",
       "\n",
       "       Hasil  \n",
       "0          1  \n",
       "1          0  \n",
       "2          0  \n",
       "3          0  \n",
       "4          1  \n",
       "...      ...  \n",
       "29995      0  \n",
       "29996      0  \n",
       "29997      0  \n",
       "29998      0  \n",
       "29999      1  \n",
       "\n",
       "[30000 rows x 10 columns]"
      ]
     },
     "execution_count": 97,
     "metadata": {},
     "output_type": "execute_result"
    }
   ],
   "source": [
    "paru_dataset.drop('No',axis=1)"
   ]
  },
  {
   "cell_type": "code",
   "execution_count": 11,
   "metadata": {},
   "outputs": [
    {
     "data": {
      "text/plain": [
       "(30000, 11)"
      ]
     },
     "execution_count": 11,
     "metadata": {},
     "output_type": "execute_result"
    }
   ],
   "source": [
    "paru_dataset.shape"
   ]
  },
  {
   "cell_type": "code",
   "execution_count": 30,
   "metadata": {},
   "outputs": [],
   "source": [
    "from sklearn.preprocessing import LabelEncoder\n",
    "le = LabelEncoder()"
   ]
  },
  {
   "cell_type": "code",
   "execution_count": 58,
   "metadata": {},
   "outputs": [
    {
     "name": "stdout",
     "output_type": "stream",
     "text": [
      "{0: 0, 1: 1}\n"
     ]
    }
   ],
   "source": [
    "# Mengubaah Dari Kategori Ke Numerik\n",
    "paru_dataset['Usia'] = le.inverse_transform(paru_dataset['Usia'])\n",
    "le_name_mapping = dict(zip(le.classes_, le.transform(le.classes_)))\n",
    "print(le_name_mapping)"
   ]
  },
  {
   "cell_type": "code",
   "execution_count": 59,
   "metadata": {},
   "outputs": [
    {
     "name": "stdout",
     "output_type": "stream",
     "text": [
      "Pemetaan Nama Kategori ke Nilai Numerik: {0: 0, 1: 1}\n",
      "Kategori Semula:\n",
      "0        1\n",
      "1        1\n",
      "2        0\n",
      "3        1\n",
      "4        0\n",
      "        ..\n",
      "29995    0\n",
      "29996    1\n",
      "29997    1\n",
      "29998    0\n",
      "29999    1\n",
      "Name: Usia, Length: 30000, dtype: int32\n"
     ]
    }
   ],
   "source": [
    "paru_dataset['Usia'] = le.fit_transform(paru_dataset['Usia'])\n",
    "\n",
    "# Simpan pemetaan nama kategori ke nilai numerik\n",
    "le_name_mapping = dict(zip(le.classes_, le.transform(le.classes_)))\n",
    "print(\"Pemetaan Nama Kategori ke Nilai Numerik:\", le_name_mapping)\n",
    "\n",
    "# Mengembalikan kolom 'Usia' ke bentuk kategori semula\n",
    "paru_dataset['Usia'] = le.inverse_transform(paru_dataset['Usia'])\n",
    "\n",
    "# Mengembalikan nilai numerik ke kategori semula berdasarkan pemetaan yang sudah disimpan\n",
    "paru_dataset['Usia'] = paru_dataset['Usia'].map({v: k for k, v in le_name_mapping.items()})\n",
    "\n",
    "# Mencetak kategori semula\n",
    "print(\"Kategori Semula:\")\n",
    "print(paru_dataset['Usia'])"
   ]
  },
  {
   "cell_type": "code",
   "execution_count": 66,
   "metadata": {},
   "outputs": [],
   "source": [
    "paru_dataset['Usia'] = paru_dataset['Usia'].map({v: k for k, v in le_name_mapping.items()})"
   ]
  },
  {
   "cell_type": "code",
   "execution_count": 35,
   "metadata": {},
   "outputs": [
    {
     "name": "stdout",
     "output_type": "stream",
     "text": [
      "{'Pria': 0, 'Wanita': 1}\n"
     ]
    }
   ],
   "source": [
    "paru_dataset['Jenis_Kelamin'] = le.fit_transform(paru_dataset['Jenis_Kelamin'])\n",
    "le_name_mapping = dict(zip(le.classes_, le.transform(le.classes_)))\n",
    "print(le_name_mapping)"
   ]
  },
  {
   "cell_type": "code",
   "execution_count": 36,
   "metadata": {},
   "outputs": [
    {
     "name": "stdout",
     "output_type": "stream",
     "text": [
      "{'Aktif': 0, 'Pasif': 1}\n"
     ]
    }
   ],
   "source": [
    "paru_dataset['Merokok'] = le.fit_transform(paru_dataset['Merokok'])\n",
    "le_name_mapping = dict(zip(le.classes_, le.transform(le.classes_)))\n",
    "print(le_name_mapping)"
   ]
  },
  {
   "cell_type": "code",
   "execution_count": 37,
   "metadata": {},
   "outputs": [
    {
     "name": "stdout",
     "output_type": "stream",
     "text": [
      "{'Tidak': 0, 'Ya': 1}\n"
     ]
    }
   ],
   "source": [
    "paru_dataset['Bekerja'] = le.fit_transform(paru_dataset['Bekerja'])\n",
    "le_name_mapping = dict(zip(le.classes_, le.transform(le.classes_)))\n",
    "print(le_name_mapping)"
   ]
  },
  {
   "cell_type": "code",
   "execution_count": 38,
   "metadata": {},
   "outputs": [
    {
     "name": "stdout",
     "output_type": "stream",
     "text": [
      "{'Tidak': 0, 'Ya': 1}\n"
     ]
    }
   ],
   "source": [
    "paru_dataset['Rumah_Tangga'] = le.fit_transform(paru_dataset['Rumah_Tangga'])\n",
    "le_name_mapping = dict(zip(le.classes_, le.transform(le.classes_)))\n",
    "print(le_name_mapping)"
   ]
  },
  {
   "cell_type": "code",
   "execution_count": 39,
   "metadata": {},
   "outputs": [
    {
     "name": "stdout",
     "output_type": "stream",
     "text": [
      "{'Tidak': 0, 'Ya': 1}\n"
     ]
    }
   ],
   "source": [
    "paru_dataset['Aktivitas_Begadang'] = le.fit_transform(paru_dataset['Aktivitas_Begadang'])\n",
    "le_name_mapping = dict(zip(le.classes_, le.transform(le.classes_)))\n",
    "print(le_name_mapping)"
   ]
  },
  {
   "cell_type": "code",
   "execution_count": 40,
   "metadata": {},
   "outputs": [
    {
     "name": "stdout",
     "output_type": "stream",
     "text": [
      "{'Jarang': 0, 'Sering': 1}\n"
     ]
    }
   ],
   "source": [
    "paru_dataset['Aktivitas_Olahraga'] = le.fit_transform(paru_dataset['Aktivitas_Olahraga'])\n",
    "le_name_mapping = dict(zip(le.classes_, le.transform(le.classes_)))\n",
    "print(le_name_mapping)"
   ]
  },
  {
   "cell_type": "code",
   "execution_count": 41,
   "metadata": {},
   "outputs": [
    {
     "name": "stdout",
     "output_type": "stream",
     "text": [
      "{'Ada': 0, 'Tidak': 1}\n"
     ]
    }
   ],
   "source": [
    "paru_dataset['Asuransi'] = le.fit_transform(paru_dataset['Asuransi'])\n",
    "le_name_mapping = dict(zip(le.classes_, le.transform(le.classes_)))\n",
    "print(le_name_mapping)"
   ]
  },
  {
   "cell_type": "code",
   "execution_count": 42,
   "metadata": {},
   "outputs": [
    {
     "name": "stdout",
     "output_type": "stream",
     "text": [
      "{'Ada': 0, 'Tidak': 1}\n"
     ]
    }
   ],
   "source": [
    "paru_dataset['Penyakit_Bawaan'] = le.fit_transform(paru_dataset['Penyakit_Bawaan'])\n",
    "le_name_mapping = dict(zip(le.classes_, le.transform(le.classes_)))\n",
    "print(le_name_mapping)"
   ]
  },
  {
   "cell_type": "code",
   "execution_count": 43,
   "metadata": {},
   "outputs": [
    {
     "name": "stdout",
     "output_type": "stream",
     "text": [
      "{'Tidak': 0, 'Ya': 1}\n"
     ]
    }
   ],
   "source": [
    "paru_dataset['Hasil'] = le.fit_transform(paru_dataset['Hasil'])\n",
    "le_name_mapping = dict(zip(le.classes_, le.transform(le.classes_)))\n",
    "print(le_name_mapping)"
   ]
  },
  {
   "cell_type": "code",
   "execution_count": 98,
   "metadata": {},
   "outputs": [
    {
     "data": {
      "text/plain": [
       "No                    int64\n",
       "Usia                  int32\n",
       "Jenis_Kelamin         int32\n",
       "Merokok               int32\n",
       "Bekerja               int32\n",
       "Rumah_Tangga          int32\n",
       "Aktivitas_Begadang    int32\n",
       "Aktivitas_Olahraga    int32\n",
       "Asuransi              int32\n",
       "Penyakit_Bawaan       int32\n",
       "Hasil                 int32\n",
       "dtype: object"
      ]
     },
     "execution_count": 98,
     "metadata": {},
     "output_type": "execute_result"
    }
   ],
   "source": [
    "paru_dataset.dtypes"
   ]
  },
  {
   "cell_type": "code",
   "execution_count": 44,
   "metadata": {},
   "outputs": [
    {
     "data": {
      "text/plain": [
       "Hasil\n",
       "0    15648\n",
       "1    14352\n",
       "Name: count, dtype: int64"
      ]
     },
     "execution_count": 44,
     "metadata": {},
     "output_type": "execute_result"
    }
   ],
   "source": [
    "paru_dataset['Hasil'].value_counts()"
   ]
  },
  {
   "cell_type": "code",
   "execution_count": 114,
   "metadata": {},
   "outputs": [],
   "source": [
    "# memisahkan data dan label\n",
    "X = paru_dataset.drop (columns=['Hasil','No'], axis=1)\n",
    "Y = paru_dataset['Hasil']"
   ]
  },
  {
   "cell_type": "code",
   "execution_count": 115,
   "metadata": {},
   "outputs": [
    {
     "name": "stdout",
     "output_type": "stream",
     "text": [
      "       Usia  Jenis_Kelamin  Merokok  Bekerja  Rumah_Tangga  \\\n",
      "0         1              0        1        0             1   \n",
      "1         1              0        0        0             1   \n",
      "2         0              0        0        0             1   \n",
      "3         1              0        0        1             0   \n",
      "4         0              1        1        1             0   \n",
      "...     ...            ...      ...      ...           ...   \n",
      "29995     0              0        0        0             1   \n",
      "29996     1              1        0        1             0   \n",
      "29997     1              1        0        1             0   \n",
      "29998     0              1        1        1             0   \n",
      "29999     1              1        1        0             1   \n",
      "\n",
      "       Aktivitas_Begadang  Aktivitas_Olahraga  Asuransi  Penyakit_Bawaan  \n",
      "0                       1                   1         0                1  \n",
      "1                       1                   0         0                0  \n",
      "2                       1                   0         0                1  \n",
      "3                       0                   0         0                0  \n",
      "4                       0                   1         1                0  \n",
      "...                   ...                 ...       ...              ...  \n",
      "29995                   1                   0         0                1  \n",
      "29996                   1                   0         0                0  \n",
      "29997                   1                   0         0                0  \n",
      "29998                   0                   1         1                0  \n",
      "29999                   0                   1         1                1  \n",
      "\n",
      "[30000 rows x 9 columns]\n"
     ]
    }
   ],
   "source": [
    "print(X)"
   ]
  },
  {
   "cell_type": "code",
   "execution_count": 71,
   "metadata": {},
   "outputs": [
    {
     "name": "stdout",
     "output_type": "stream",
     "text": [
      "0        1\n",
      "1        0\n",
      "2        0\n",
      "3        0\n",
      "4        1\n",
      "        ..\n",
      "29995    0\n",
      "29996    0\n",
      "29997    0\n",
      "29998    0\n",
      "29999    1\n",
      "Name: Hasil, Length: 30000, dtype: int32\n"
     ]
    }
   ],
   "source": [
    "print(Y)"
   ]
  },
  {
   "cell_type": "markdown",
   "metadata": {},
   "source": [
    "3.Standarisasi Data"
   ]
  },
  {
   "cell_type": "code",
   "execution_count": 16,
   "metadata": {},
   "outputs": [],
   "source": [
    "scaler = StandardScaler()"
   ]
  },
  {
   "cell_type": "markdown",
   "metadata": {},
   "source": [
    "4. Split Data (Data Training & Data Testing)"
   ]
  },
  {
   "cell_type": "code",
   "execution_count": 116,
   "metadata": {},
   "outputs": [],
   "source": [
    "X_train, X_test, Y_train, Y_test = train_test_split(X, Y, test_size=0.2, stratify=Y, random_state=2)"
   ]
  },
  {
   "cell_type": "code",
   "execution_count": 117,
   "metadata": {},
   "outputs": [
    {
     "name": "stdout",
     "output_type": "stream",
     "text": [
      "(30000, 9) (24000, 9) (6000, 9)\n"
     ]
    }
   ],
   "source": [
    "print(X.shape, X_train.shape, X_test.shape)"
   ]
  },
  {
   "cell_type": "markdown",
   "metadata": {},
   "source": [
    "5.Membuat Model Evaluasi menggunkan FeatureEngineering RandomForest untuk Mengukur Akurasi"
   ]
  },
  {
   "cell_type": "code",
   "execution_count": 77,
   "metadata": {},
   "outputs": [],
   "source": [
    "from sklearn.ensemble import RandomForestClassifier\n",
    "from sklearn.metrics import classification_report"
   ]
  },
  {
   "cell_type": "code",
   "execution_count": 121,
   "metadata": {},
   "outputs": [
    {
     "name": "stdout",
     "output_type": "stream",
     "text": [
      "Accuracy: 0.9446666666666667\n",
      "              precision    recall  f1-score   support\n",
      "\n",
      "           0       0.90      1.00      0.95      3130\n",
      "           1       1.00      0.88      0.94      2870\n",
      "\n",
      "    accuracy                           0.94      6000\n",
      "   macro avg       0.95      0.94      0.94      6000\n",
      "weighted avg       0.95      0.94      0.94      6000\n",
      "\n"
     ]
    }
   ],
   "source": [
    "rf_model = RandomForestClassifier()\n",
    "rf_model.fit(X_train, Y_train)\n",
    "y_pred = rf_model.predict(X_test)\n",
    "print(\"Accuracy:\", accuracy_score(Y_test, y_pred))\n",
    "print(classification_report(Y_test, y_pred))"
   ]
  },
  {
   "cell_type": "markdown",
   "metadata": {},
   "source": [
    "6. simpan Model"
   ]
  },
  {
   "cell_type": "code",
   "execution_count": 86,
   "metadata": {},
   "outputs": [],
   "source": [
    "import pickle"
   ]
  },
  {
   "cell_type": "code",
   "execution_count": 122,
   "metadata": {},
   "outputs": [],
   "source": [
    "filename = 'paru_model.sav'\n",
    "pickle.dump(rf_model, open(filename, \"wb\"))"
   ]
  },
  {
   "cell_type": "code",
   "execution_count": 123,
   "metadata": {},
   "outputs": [
    {
     "name": "stdout",
     "output_type": "stream",
     "text": [
      "Terjangkit\n"
     ]
    }
   ],
   "source": [
    "loaded_model = pickle.load(open(\"paru_model.sav\", \"rb\"))\n",
    "pred = loaded_model.predict(X[0:1])\n",
    "if(pred[0] == 0):\n",
    "    print('Tidak Terjangkit Penyakit Paru-Paru')\n",
    "else :\n",
    "    print('Terjangkit')"
   ]
  }
 ],
 "metadata": {
  "kernelspec": {
   "display_name": "Python 3",
   "language": "python",
   "name": "python3"
  },
  "language_info": {
   "codemirror_mode": {
    "name": "ipython",
    "version": 3
   },
   "file_extension": ".py",
   "mimetype": "text/x-python",
   "name": "python",
   "nbconvert_exporter": "python",
   "pygments_lexer": "ipython3",
   "version": "3.12.1"
  },
  "orig_nbformat": 4
 },
 "nbformat": 4,
 "nbformat_minor": 2
}
